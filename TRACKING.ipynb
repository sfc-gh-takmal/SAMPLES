{
 "metadata": {
  "kernelspec": {
   "display_name": "Python 3",
   "name": "python3"
  },
  "language_info": {
   "name": "sql"
  },
  "lastEditStatus": {
   "notebookId": "pvfruiixmsm5du4ijwe3",
   "authorId": "1935988576203",
   "authorName": "TAJA",
   "authorEmail": "taj.akmal@snowflake.com",
   "sessionId": "fcdf1007-1e7a-41e5-9ec4-74d0ba9ba157",
   "lastEditTime": 1756998776077
  }
 },
 "nbformat_minor": 5,
 "nbformat": 4,
 "cells": [
  {
   "cell_type": "markdown",
   "id": "8e05d632-6cea-451c-80b1-36e56b35d630",
   "metadata": {
    "name": "cell1"
   },
   "source": [
    "# Snowflake Cortex Cost Monitoring and Analysis\n",
    "\n",
    "This notebook provides a robust set of examples for monitoring and analyzing costs associated with Snowflake Cortex LLM functions and Cortex Analyst. The examples use Snowflake's `ACCOUNT_USAGE` views and system tables to help administrators and analysts understand where credits are being consumed.\n",
    "\n",
    "**Prerequisites:**\n",
    "\n",
    "- You must have the **ACCOUNTADMIN** role or a role with access to the `SNOWFLAKE` database and `ACCOUNT_USAGE` schema.\n",
    "- The `SNOWFLAKE` database should be visible in your session.\n",
    "- For analyst-specific monitoring, ensure that you have enabled and used Cortex Analyst in your account.\n",
    "\n",
    "Each section below contains SQL queries you can run directly in a Snowflake worksheet or notebook. Feel free to adjust date ranges (via `DATEADD`) and filters to suit your environment."
   ]
  },
  {
   "cell_type": "markdown",
   "id": "f030eeff-5372-427f-bb2b-2fd7f9eafa81",
   "metadata": {
    "name": "cell2"
   },
   "source": [
    "## 1. Daily AI Services Consumption\n",
    "\n",
    "Use the `METERING_DAILY_HISTORY` view to see how many credits have been consumed each day by AI Services (which includes Cortex LLM function calls, Document AI, Cortex Search, etc.). Adjust the date range as needed.\n",
    "\n",
    "The `SERVICE_TYPE` column contains values like `AI_SERVICES`, `WAREHOUSE_METERING`, `STORAGE`, etc. We're interested in AI services."
   ]
  },
  {
   "cell_type": "code",
   "execution_count": null,
   "id": "b0e14d38-4d5d-4b73-b88b-1e90635f7766",
   "metadata": {
    "name": "cell3",
    "language": "sql"
   },
   "outputs": [],
   "source": [
    "-- Daily credit consumption for AI Services over the last 30 days\n",
    "SELECT\n",
    "    USAGE_DATE,\n",
    "    SUM(CREDITS_USED) AS credits_used\n",
    "FROM SNOWFLAKE.ACCOUNT_USAGE.METERING_DAILY_HISTORY\n",
    "WHERE SERVICE_TYPE = 'AI_SERVICES'\n",
    "  AND USAGE_DATE >= DATEADD(day, -30, CURRENT_DATE())\n",
    "GROUP BY USAGE_DATE\n",
    "ORDER BY USAGE_DATE;"
   ]
  },
  {
   "cell_type": "markdown",
   "id": "28bb9143-c055-4f12-9b03-0482d058251d",
   "metadata": {
    "name": "cell4"
   },
   "source": [
    "## 2. Cortex Functions Usage Overview\n",
    "\n",
    "The `CORTEX_FUNCTIONS_USAGE_HISTORY` view provides aggregated token and credit usage for each function and model in one‑hour windows. The following query summarizes total tokens and credits for each function and model over the past 7 days.\n",
    "\n",
    "This is useful for understanding which functions or models are consuming the most credits. If you see unexpected spikes, drill down using the query-level view in the next section."
   ]
  },
  {
   "cell_type": "code",
   "execution_count": null,
   "id": "979a98e1-e9e6-419c-8a5b-ce9a9b75f95d",
   "metadata": {
    "name": "cell5",
    "language": "sql"
   },
   "outputs": [],
   "source": [
    "-- Summarize token and credit usage by function and model over the last 7 days\n",
    "SELECT\n",
    "    FUNCTION_NAME,\n",
    "    MODEL_NAME,\n",
    "    SUM(TOKENS)         AS total_tokens,\n",
    "    SUM(TOKEN_CREDITS)  AS total_credits\n",
    "FROM SNOWFLAKE.ACCOUNT_USAGE.CORTEX_FUNCTIONS_USAGE_HISTORY\n",
    "WHERE START_TIME >= DATEADD(day, -7, CURRENT_TIMESTAMP())\n",
    "GROUP BY 1, 2\n",
    "ORDER BY total_credits DESC;"
   ]
  },
  {
   "cell_type": "markdown",
   "id": "eecbe0eb-e97d-4c32-a0e9-df59ca9a5e6e",
   "metadata": {
    "name": "cell6",
    "collapsed": false
   },
   "source": [
    "## 3. Per-Query Cortex Function Usage\n",
    "\n",
    "To identify individual queries that are consuming significant credits, use the `CORTEX_FUNCTIONS_QUERY_USAGE_HISTORY` view. Each row corresponds to a `QUERY_ID`, `FUNCTION_NAME` and `MODEL_NAME`, showing the number of tokens and credits consumed by that query.\n",
    "\n",
    "The example below lists the top 10 queries by credit consumption in the last 7 days. You can join this to `QUERY_HISTORY` to get the text of the query or user information."
   ]
  },
  {
   "cell_type": "code",
   "execution_count": null,
   "id": "9f12e387-12b2-4903-965c-9a64663e21b0",
   "metadata": {
    "name": "cell7",
    "language": "sql"
   },
   "outputs": [],
   "source": "-- Top 10 queries by AI token credit consumption in the last 7 days\nSELECT\n    q.query_id,\n    c.model_name,\n    c.function_name,\n    c.tokens,\n    c.token_credits,\n    q.user_name\nFROM SNOWFLAKE.ACCOUNT_USAGE.CORTEX_FUNCTIONS_QUERY_USAGE_HISTORY c\nJOIN SNOWFLAKE.ACCOUNT_USAGE.QUERY_HISTORY q\n  ON c.query_id = q.query_id\nWHERE q.start_time >= DATEADD(day, -7, CURRENT_TIMESTAMP())\nORDER BY c.token_credits DESC\nLIMIT 10;"
  },
  {
   "cell_type": "markdown",
   "id": "75aad2f6-cd36-430c-939a-ff2a0271cec5",
   "metadata": {
    "name": "cell8"
   },
   "source": [
    "## 4. Top Models and Users\n",
    "\n",
    "You can further analyze usage by model or by user. The queries below compute total credits by model and by user over the past 30 days. Replace the date range as needed."
   ]
  },
  {
   "cell_type": "code",
   "execution_count": null,
   "id": "44e5a760-768d-4a32-ae89-5321a88af6e2",
   "metadata": {
    "name": "cell9",
    "language": "sql"
   },
   "outputs": [],
   "source": [
    "-- Top models by total credits over the last 30 days\n",
    "SELECT\n",
    "    MODEL_NAME,\n",
    "    SUM(TOKEN_CREDITS) AS total_credits\n",
    "FROM SNOWFLAKE.ACCOUNT_USAGE.CORTEX_FUNCTIONS_USAGE_HISTORY\n",
    "WHERE START_TIME >= DATEADD(day, -30, CURRENT_TIMESTAMP())\n",
    "GROUP BY MODEL_NAME\n",
    "ORDER BY total_credits DESC\n",
    "LIMIT 10;"
   ]
  },
  {
   "cell_type": "code",
   "execution_count": null,
   "id": "ec47763f-27d2-4af8-94bd-e50e6dcc04d8",
   "metadata": {
    "name": "cell10",
    "language": "sql"
   },
   "outputs": [],
   "source": "-- Top users by AI Services credits consumed over the last 30 days\nSELECT\n    q.user_name,\n    SUM(c.token_credits) AS total_credits\nFROM SNOWFLAKE.ACCOUNT_USAGE.CORTEX_FUNCTIONS_QUERY_USAGE_HISTORY c\nJOIN SNOWFLAKE.ACCOUNT_USAGE.QUERY_HISTORY q\n  ON c.query_id = q.query_id\nWHERE q.start_time >= DATEADD(day, -30, CURRENT_TIMESTAMP())\nGROUP BY q.user_name\nORDER BY total_credits DESC\nLIMIT 10;"
  },
  {
   "cell_type": "markdown",
   "id": "d826a049-a207-44bc-b933-44d0be427d59",
   "metadata": {
    "name": "cell11"
   },
   "source": [
    "## 5. Cortex Analyst Usage\n",
    "\n",
    "Cortex Analyst is a text-to-SQL service whose usage can be tracked using the `CORTEX_ANALYST_USAGE_HISTORY` view. Each row aggregates requests, credits, and user information over one-hour windows.\n",
    "\n",
    "The queries below show overall analyst consumption and break it down by user. Adjust the date range to meet your needs."
   ]
  },
  {
   "cell_type": "code",
   "execution_count": null,
   "id": "5afc9dcd-38dc-41ef-99e9-ab6ff8a7ceaf",
   "metadata": {
    "name": "cell12",
    "language": "sql"
   },
   "outputs": [],
   "source": [
    "-- Total Cortex Analyst requests and credits over the last 30 days\n",
    "SELECT\n",
    "    DATE_TRUNC('day', START_TIME) AS usage_day,\n",
    "    SUM(REQUEST_COUNT) AS total_requests,\n",
    "    SUM(CREDITS)        AS total_credits\n",
    "FROM SNOWFLAKE.ACCOUNT_USAGE.CORTEX_ANALYST_USAGE_HISTORY\n",
    "WHERE START_TIME >= DATEADD(day, -30, CURRENT_TIMESTAMP())\n",
    "GROUP BY usage_day\n",
    "ORDER BY usage_day;"
   ]
  },
  {
   "cell_type": "code",
   "execution_count": null,
   "id": "60b855e7-108e-4d65-9787-3f1c7768de54",
   "metadata": {
    "name": "cell13",
    "language": "sql"
   },
   "outputs": [],
   "source": [
    "-- Cortex Analyst usage by user over the last 30 days\n",
    "SELECT\n",
    "    USERNAME,\n",
    "    SUM(REQUEST_COUNT) AS total_requests,\n",
    "    SUM(CREDITS)       AS total_credits,\n",
    "    SUM(CREDITS) / NULLIF(SUM(REQUEST_COUNT), 0) AS credits_per_request\n",
    "FROM SNOWFLAKE.ACCOUNT_USAGE.CORTEX_ANALYST_USAGE_HISTORY\n",
    "WHERE START_TIME >= DATEADD(day, -30, CURRENT_TIMESTAMP())\n",
    "GROUP BY USERNAME\n",
    "ORDER BY total_credits DESC\n",
    "LIMIT 10;"
   ]
  },
  {
   "cell_type": "markdown",
   "id": "cfbf9ee3-99de-4bae-9992-9ace77545840",
   "metadata": {
    "name": "cell16",
    "collapsed": false
   },
   "source": "## 6. Resource Monitors and Budgets\n\nResource monitors and budgets help prevent unexpected charges.\n\n- **Resource monitors** can suspend warehouses at defined thresholds. Use `SHOW RESOURCE MONITORS` to view existing monitors and their quotas.\n- **Budgets** provide monthly spend targets and send notifications when spending is projected to exceed the limit. Use `SHOW SNOWFLAKE.CORE.BUDGET` to list budgets you have access to.\n\nThe queries below return existing monitors and budgets."
  },
  {
   "cell_type": "code",
   "execution_count": null,
   "id": "d98dc9e4-9e2c-44d1-bc78-52654060210a",
   "metadata": {
    "name": "cell17",
    "language": "sql"
   },
   "outputs": [],
   "source": [
    "-- List all resource monitors and their status\n",
    "SHOW RESOURCE MONITORS;"
   ]
  },
  {
   "cell_type": "code",
   "execution_count": null,
   "id": "d19c38a0-2c1d-4c7d-93c2-50df65328440",
   "metadata": {
    "name": "cell18",
    "language": "sql"
   },
   "outputs": [],
   "source": [
    "-- List all budgets (requires appropriate privileges)\n",
    "SHOW SNOWFLAKE.CORE.BUDGET;"
   ]
  },
  {
   "cell_type": "markdown",
   "id": "30eed1f5-34e4-4caf-88fb-701bde04acd4",
   "metadata": {
    "name": "cell19",
    "collapsed": false
   },
   "source": [
    "## 8. Additional Views for AI Services\n",
    "\n",
    "Snowflake exposes several other views for specialized services. Depending on which services you use, you can run the following queries:\n",
    "\n",
    "- **Document AI:** `SNOWFLAKE.ACCOUNT_USAGE.DOCUMENT_AI_USAGE_HISTORY` provides credit usage by document AI operations.\n",
    "- **Cortex Search:** `SNOWFLAKE.ACCOUNT_USAGE.CORTEX_SEARCH_DAILY_USAGE_HISTORY` and `CORTEX_SEARCH_SERVING_USAGE_HISTORY` show credits consumed for token embedding and serving compute.\n",
    "- **Cortex Document Processing:** `SNOWFLAKE.ACCOUNT_USAGE.CORTEX_DOCUMENT_PROCESSING_USAGE_HISTORY` shows credits consumed for parsing documents with `AI_PARSE_DOCUMENT`.\n",
    "\n",
    "Below are sample queries for these views."
   ]
  },
  {
   "cell_type": "code",
   "execution_count": null,
   "id": "45c43585-9968-4f00-bf16-9cbcc5a84ff2",
   "metadata": {
    "name": "cell20",
    "language": "sql"
   },
   "outputs": [],
   "source": "-- Document AI usage over the last 30 days\nSELECT\n    DATE_TRUNC('day', START_TIME) AS usage_day,\n    SUM(CREDITS_USED) AS total_credits,\n    SUM(PAGE_COUNT) AS total_pages,\n    SUM(DOCUMENT_COUNT) AS total_documents\nFROM SNOWFLAKE.ACCOUNT_USAGE.DOCUMENT_AI_USAGE_HISTORY\nWHERE START_TIME >= DATEADD(day, -365, CURRENT_TIMESTAMP())\nGROUP BY usage_day\nORDER BY usage_day;"
  },
  {
   "cell_type": "code",
   "execution_count": null,
   "id": "a6cf2fb0-ba49-41a7-9f41-afd9125e4ff0",
   "metadata": {
    "name": "cell21",
    "language": "sql"
   },
   "outputs": [],
   "source": "-- Cortex Search embedding and serving usage over the last 30 days\nSELECT\n    SERVICE_NAME,\n    DATE_TRUNC('day', USAGE_DATE) AS usage_day,\n    CONSUMPTION_TYPE,\n    SUM(CREDITS)    AS embed_credits\nFROM SNOWFLAKE.ACCOUNT_USAGE.CORTEX_SEARCH_DAILY_USAGE_HISTORY\nWHERE USAGE_DATE >= DATEADD(day, -30, CURRENT_TIMESTAMP())\nGROUP BY SERVICE_NAME, usage_day, CONSUMPTION_TYPE\nORDER BY usage_day;"
  },
  {
   "cell_type": "markdown",
   "id": "56b76364-7647-4a7c-898e-9e61e60e7347",
   "metadata": {
    "name": "cell14",
    "collapsed": false
   },
   "source": "## 9. Token Count\n\nYou can count the input tokens to understand what the token utilization would be if you were to run on of the scalar functions.\n\nBelow are sample queries for these views."
  },
  {
   "cell_type": "code",
   "id": "ae929ea0-4007-4fe5-a14a-1cb7b08fd4a4",
   "metadata": {
    "language": "sql",
    "name": "cell15"
   },
   "outputs": [],
   "source": "-- Count tokens for a single prompt with a specific model\nSELECT SNOWFLAKE.CORTEX.COUNT_TOKENS('llama3.1-70b', 'what is a large language model?') AS tokens;",
   "execution_count": null
  },
  {
   "cell_type": "code",
   "id": "0a141352-0122-4e59-adcf-55bb8ff596d3",
   "metadata": {
    "language": "sql",
    "name": "cell22"
   },
   "outputs": [],
   "source": "-- For each row, count tokens in a text column\nSELECT\n  id,\n  SNOWFLAKE.CORTEX.COUNT_TOKENS('llama3.1-70b', content) AS prompt_tokens\nFROM my_db.my_schema.my_table\nORDER BY prompt_tokens DESC;",
   "execution_count": null
  }
 ]
}