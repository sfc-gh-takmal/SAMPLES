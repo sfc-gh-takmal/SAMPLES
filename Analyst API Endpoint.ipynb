{
 "cells": [
  {
   "cell_type": "markdown",
   "id": "ae28a30d-9bfe-4c18-8334-8b11e493a171",
   "metadata": {
    "collapsed": false,
    "name": "cell4"
   },
   "source": [
    "# Cortex Analyst Endpoint"
   ]
  },
  {
   "cell_type": "code",
   "execution_count": null,
   "id": "88ee2815",
   "metadata": {},
   "outputs": [],
   "source": [
    "# Install from dropdown - snowflake-snowpark-python"
   ]
  },
  {
   "cell_type": "code",
   "execution_count": null,
   "id": "3775908f-ca36-4846-8f38-5adca39217f2",
   "metadata": {
    "language": "python",
    "name": "cell1"
   },
   "outputs": [],
   "source": [
    "from snowflake.snowpark.context import get_active_session\n",
    "import _snowflake\n",
    "import json\n",
    "\n",
    "session = get_active_session()\n",
    "DATABASE = \"CORTEX_ANALYST_DEMO\"\n",
    "SCHEMA = \"JAFFLE\"\n",
    "STAGE = \"ANALYST\"\n",
    "SEMANTIC_MODEL_FILENAME = \"jaffle_shop_star_schema.yaml\""
   ]
  },
  {
   "cell_type": "markdown",
   "id": "38adf9eb-7a70-43ad-8a54-734d3aae72e5",
   "metadata": {
    "collapsed": false,
    "name": "cell3"
   },
   "source": [
    "## Make API call and examine results"
   ]
  },
  {
   "cell_type": "code",
   "execution_count": null,
   "id": "801848e0-612e-4bde-9a07-17ef49c8ac2f",
   "metadata": {
    "language": "python",
    "name": "cell2"
   },
   "outputs": [],
   "source": [
    "prompt = \"What is the total count of orders?\"\n",
    "request_body = {\n",
    "    \"messages\": [\n",
    "        {\n",
    "            \"role\": \"user\",\n",
    "            \"content\": [{\"type\": \"text\", \"text\": prompt}],\n",
    "        }\n",
    "    ],\n",
    "    \"semantic_model_file\": f\"@{DATABASE}.{SCHEMA}.{STAGE}/{SEMANTIC_MODEL_FILENAME}\",\n",
    "}\n",
    "\n",
    "api_response = _snowflake.send_snow_api_request(\n",
    "    \"POST\",\n",
    "    \"/api/v2/cortex/analyst/message\",\n",
    "    {},\n",
    "    {},\n",
    "    request_body,\n",
    "    {},\n",
    "    30000,\n",
    ")\n",
    "\n",
    "if api_response.get(\"status\", 500) < 400:\n",
    "    response_content = json.loads(api_response[\"content\"])\n",
    "    print(\"Parsed Response:\", response_content)\n",
    "else:\n",
    "    raise Exception(f\"Failed request with status {api_response['status']}: {api_response}\")"
   ]
  },
  {
   "cell_type": "markdown",
   "id": "cb84267e-b0ac-4fc5-9139-a1ba92444a05",
   "metadata": {
    "collapsed": false,
    "name": "cell6"
   },
   "source": [
    "## Examine Cortex Analyst API response"
   ]
  },
  {
   "cell_type": "code",
   "execution_count": null,
   "id": "0b328672-582d-4a8b-ad48-68763b9e1136",
   "metadata": {
    "codeCollapsed": false,
    "language": "python",
    "name": "cell5"
   },
   "outputs": [],
   "source": [
    "content = json.loads(api_response['content'])\n",
    "analyst_response = content['message']\n",
    "print(analyst_response)"
   ]
  },
  {
   "cell_type": "markdown",
   "id": "4fcc49c1-c220-4c1a-9511-83fb17cc4fbe",
   "metadata": {
    "collapsed": false,
    "name": "cell7"
   },
   "source": [
    "### Examine the last response - SQL"
   ]
  },
  {
   "cell_type": "code",
   "execution_count": null,
   "id": "14a197ca-942e-435a-93f9-1a8bf2f41839",
   "metadata": {
    "language": "python",
    "name": "cell8"
   },
   "outputs": [],
   "source": [
    "content = json.loads(api_response['content'])\n",
    "analyst_response = content['message']['content'][-1]\n",
    "print(analyst_response)"
   ]
  },
  {
   "cell_type": "markdown",
   "id": "27c01b53-7a16-4a1d-ae8a-16ce51de37b8",
   "metadata": {
    "collapsed": false,
    "name": "cell9"
   },
   "source": [
    "## Extract SQL statement for the Cortex Analyst response and execute"
   ]
  },
  {
   "cell_type": "code",
   "execution_count": null,
   "id": "7620113c-81f4-4f3b-8245-c1cfb8d3ebce",
   "metadata": {
    "language": "python",
    "name": "cell10"
   },
   "outputs": [],
   "source": [
    "# Parse the API response\n",
    "content = json.loads(api_response['content'])\n",
    "\n",
    "# Extract the analyst message\n",
    "# Note: use \"message\" (singular) as in the API response.\n",
    "analyst_response = content['message']\n",
    "\n",
    "# Verify the structure to avoid KeyError\n",
    "if 'content' not in analyst_response:\n",
    "    raise KeyError(f\"Expected key 'content' not found in analyst_response. Available keys: {list(analyst_response.keys())}\")\n",
    "\n",
    "# Extract the SQL statement\n",
    "sql_statement = \"\"\n",
    "for item in analyst_response['content']:\n",
    "    if item.get('type') == 'sql':\n",
    "        sql_statement = item.get('statement', \"\")\n",
    "        # Remove trailing semicolon if present\n",
    "        if sql_statement.endswith(';'):\n",
    "            sql_statement = sql_statement[:-1]\n",
    "        break  # Assuming you only need the first SQL statement\n",
    "\n",
    "print(sql_statement)"
   ]
  },
  {
   "cell_type": "markdown",
   "id": "e5a90ec9-74e0-4484-9cbd-cfb3765bb7b5",
   "metadata": {
    "collapsed": false,
    "name": "cell12"
   },
   "source": [
    "#### Execute SQL"
   ]
  },
  {
   "cell_type": "code",
   "execution_count": null,
   "id": "a1d1390a-cd45-4e94-85ff-4e1305b1e739",
   "metadata": {
    "language": "python",
    "name": "cell11"
   },
   "outputs": [],
   "source": [
    "session.sql(sql_statement)"
   ]
  }
 ],
 "metadata": {
  "kernelspec": {
   "display_name": "Streamlit Notebook",
   "name": "streamlit"
  },
  "lastEditStatus": {
   "authorEmail": "taj.akmal@snowflake.com",
   "authorId": "1935988576203",
   "authorName": "TAJA",
   "lastEditTime": 1742441515284,
   "notebookId": "aydquq4jpf4zk2cuzgrc",
   "sessionId": "9f891016-2b49-434c-a0f1-7bb5a602236f"
  }
 },
 "nbformat": 4,
 "nbformat_minor": 5
}
